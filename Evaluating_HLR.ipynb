{
 "cells": [
  {
   "cell_type": "code",
   "execution_count": 16,
   "metadata": {},
   "outputs": [
    {
     "name": "stdout",
     "output_type": "stream",
     "text": [
      "method = \"leitner\"\n",
      "reading data...0...1000000...2000000...3000000...4000000...5000000...6000000...7000000...8000000...9000000...10000000...11000000...12000000...done!\n",
      "|train| = 11568803\n",
      "|test|  = 1285423\n",
      "test\t458465134.6 (p=216411.3, h=458248723.3, l2=0.0)\tmae(p)=0.235\tcor(p)=0.056\tmae(h)=147.926\tcor(h)=-0.105\n"
     ]
    }
   ],
   "source": [
    "#! python2.7 halflife-regression-master/experiment.py -m leitner halflife-regression-master/settles.acl16.learning_traces.13m.csv "
   ]
  },
  {
   "cell_type": "code",
   "execution_count": 17,
   "metadata": {},
   "outputs": [
    {
     "name": "stdout",
     "output_type": "stream",
     "text": [
      "method = \"pimsleur\"\n",
      "reading data...0...1000000...2000000...3000000...4000000...5000000...6000000...7000000...8000000...9000000...10000000...11000000...12000000...done!\n",
      "|train| = 11568803\n",
      "|test|  = 1285423\n",
      "test\t502841296.0 (p=506342.9, h=502334953.1, l2=0.0)\tmae(p)=0.445\tcor(p)=0.022\tmae(h)=155.459\tcor(h)=-0.112\n"
     ]
    }
   ],
   "source": [
    "#! python2.7 halflife-regression-master/experiment.py -m pimsleur halflife-regression-master/settles.acl16.learning_traces.13m.csv "
   ]
  },
  {
   "cell_type": "code",
   "execution_count": 18,
   "metadata": {},
   "outputs": [
    {
     "name": "stdout",
     "output_type": "stream",
     "text": [
      "method = \"hlr\"\n",
      "reading data...0...1000000...2000000...3000000...4000000...5000000...6000000...7000000...8000000...9000000...10000000...11000000...12000000...done!\n",
      "|train| = 11568803\n",
      "|test|  = 1285423\n",
      "test\t192022901.0 (p=109047.8, h=191913750.3, l2=102.9)\tmae(p)=0.129\tcor(p)=0.038\tmae(h)=117.551\tcor(h)=0.202\n"
     ]
    }
   ],
   "source": [
    "#! python2.7 halflife-regression-master/experiment.py -m hlr halflife-regression-master/settles.acl16.learning_traces.13m.csv "
   ]
  },
  {
   "cell_type": "code",
   "execution_count": 31,
   "metadata": {},
   "outputs": [],
   "source": [
    "import dask.dataframe as dd"
   ]
  },
  {
   "cell_type": "code",
   "execution_count": 32,
   "metadata": {},
   "outputs": [],
   "source": [
    "df_hlr = dd.read_csv('results/hlr.settles.acl16.learning_traces.13m.preds', sep='\\t')\n",
    "df_leitner = dd.read_csv('results/leitner.settles.acl16.learning_traces.13m.preds', sep='\\t')\n",
    "df_pimsleur = dd.read_csv('results/pimsleur.settles.acl16.learning_traces.13m.preds', sep='\\t')"
   ]
  },
  {
   "cell_type": "code",
   "execution_count": 33,
   "metadata": {},
   "outputs": [],
   "source": [
    "df_hlr.columns = ['p', 'pp_hlr', 'h_hlr', 'hh_hlr', 't', 'right', 'seen', 'lang', 'user_id', 'timestamp', 'lexeme_tag']\n",
    "df_leitner.columns = ['p', 'pp_l', 'h_l', 'hh_l', 't', 'right', 'seen', 'lang', 'user_id', 'timestamp', 'lexeme_tag']\n",
    "df_pimsleur.columns = ['p', 'pp_p', 'h_p', 'hh_p', 't', 'right', 'seen', 'lang', 'user_id', 'timestamp', 'lexeme_tag']"
   ]
  },
  {
   "cell_type": "code",
   "execution_count": 34,
   "metadata": {},
   "outputs": [],
   "source": [
    "df = dd.concat([df_leitner, df_pimsleur, df_hlr])"
   ]
  },
  {
   "cell_type": "code",
   "execution_count": 35,
   "metadata": {},
   "outputs": [
    {
     "data": {
      "text/plain": [
       "Index(['p', 'pp_l', 'h_l', 'hh_l', 't', 'right', 'seen', 'lang', 'user_id',\n",
       "       'timestamp', 'lexeme_tag', 'pp_p', 'h_p', 'hh_p', 'pp_hlr', 'h_hlr',\n",
       "       'hh_hlr'],\n",
       "      dtype='object')"
      ]
     },
     "execution_count": 35,
     "metadata": {},
     "output_type": "execute_result"
    }
   ],
   "source": [
    "df.columns"
   ]
  },
  {
   "cell_type": "code",
   "execution_count": 36,
   "metadata": {},
   "outputs": [],
   "source": [
    "df['delta_by_h_p'] = df.t/df.hh_p\n",
    "df['delta_by_h_l'] = df.t/df.hh_l\n",
    "df['delta_by_h_hlr'] = df.t/df.hh_hlr"
   ]
  },
  {
   "cell_type": "code",
   "execution_count": 37,
   "metadata": {},
   "outputs": [],
   "source": [
    "data = df.compute()"
   ]
  },
  {
   "cell_type": "code",
   "execution_count": 39,
   "metadata": {},
   "outputs": [
    {
     "data": {
      "text/plain": [
       "13304"
      ]
     },
     "execution_count": 39,
     "metadata": {},
     "output_type": "execute_result"
    }
   ],
   "source": [
    "len(data.lexeme_tag.unique())"
   ]
  },
  {
   "cell_type": "code",
   "execution_count": 40,
   "metadata": {},
   "outputs": [],
   "source": [
    "import pandas as pd\n",
    "import numpy as np\n",
    "import seaborn as sns\n",
    "from matplotlib import pyplot\n",
    "pd.set_option('display.max_columns', 500)\n",
    "import missingno as msno\n",
    "import matplotlib.pyplot as plt\n",
    "from anytree.resolver import Resolver\n",
    "from anytree.importer import DictImporter\n",
    "from anytree import RenderTree\n",
    "from anytree.search import findall\n",
    "import re\n",
    "import statsmodels.api as sm\n",
    "import statsmodels.formula.api as smf\n",
    "import warnings\n",
    "from tqdm import tqdm\n",
    "from sklearn.metrics import mean_squared_error\n",
    "from math import sqrt\n",
    "from collections import OrderedDict\n",
    "warnings.filterwarnings('ignore')"
   ]
  },
  {
   "cell_type": "code",
   "execution_count": 41,
   "metadata": {},
   "outputs": [],
   "source": [
    "def ql_calc(u, y):\n",
    "    # Ref: McCullagh and Nelder, 1989, p. 325\n",
    "    return y*np.log(u/(1-u)) + np.log(1-u)\n",
    "\n",
    "\n",
    "def qic(model, data, params, scale, cov_params):\n",
    "\n",
    "    varfunc = model.family.variance\n",
    "\n",
    "    from patsy import dmatrices\n",
    "    y, X = dmatrices(formula, data)\n",
    "\n",
    "    y = y.ravel()\n",
    "\n",
    "    lpr = np.dot(X, params)\n",
    "    means = model.family.link.inverse(lpr)\n",
    "\n",
    "    # omega^-1 is the model-based covariance assuming independence    \n",
    "    dmat = model.mean_deriv(X, lpr)\n",
    "    omega = np.dot(dmat.T, dmat)\n",
    "\n",
    "    # Analytical evaluation of Quasi-likelihood for Binomial Distribution\n",
    "    # Ref: W. Pan (2001). Akaike’s information criterion in generalized estimating equations. Biometrics, p.121\n",
    "    # Ref: McCullagh and Nelder, 1989, p. 325\n",
    "    \n",
    "    ql = np.sum(ql_calc(means, y))/scale\n",
    "    \n",
    "\n",
    "    qicu = -2 * ql + 2 * X.shape[1]\n",
    "    qic = -2 * ql + 2 * np.trace(np.dot(omega, cov_params))\n",
    "\n",
    "    return ql, qic, qicu"
   ]
  },
  {
   "cell_type": "code",
   "execution_count": 42,
   "metadata": {},
   "outputs": [],
   "source": [
    "# Student and Concept as random effects\n",
    "def non_nested(formula, data, hyp):\n",
    "    data_copy = data.copy()\n",
    "    data_copy[\"StudentID_Concept\"] = data_copy.user_id + data_copy.lexeme_tag\n",
    "\n",
    "    model_student = sm.GEE.from_formula(formula, groups=\"user_id\",\n",
    "                        data=data_copy, family=sm.families.Binomial(), cov_struct=sm.cov_struct.Independence())\n",
    "    result_student = model_student.fit()\n",
    "\n",
    "    model_concept = sm.GEE.from_formula(formula, groups=\"lexeme_tag\",\n",
    "                        data=data_copy, family=sm.families.Binomial(), cov_struct=sm.cov_struct.Independence())\n",
    "    result_concept = model_concept.fit()\n",
    "\n",
    "    model_student_concept = sm.GEE.from_formula(formula, groups=\"StudentID_Concept\",\n",
    "                        data=data_copy, family=sm.families.Binomial(), cov_struct=sm.cov_struct.Independence())\n",
    "    result_student_concept = model_student_concept.fit()\n",
    "\n",
    "    final_cov = result_student.normalized_cov_params + result_concept.normalized_cov_params - result_student_concept.normalized_cov_params\n",
    "\n",
    "    print(\"ql: {0:.2f}  qic:{1:.2f}  qicu:{2:.2f}\".format(*qic(model_concept, data, \n",
    "                                                      result_concept.params, result_concept.scale, \n",
    "                                                      final_cov)))\n",
    "\n",
    "\n",
    "    if type(hyp) is list:\n",
    "        output = []\n",
    "        for i in hyp:\n",
    "            output.append(result_student.wald_test(i, cov_p = final_cov).pvalue.item())\n",
    "        return output\n",
    "    else:\n",
    "        return result_student.wald_test(hyp, cov_p = final_cov)"
   ]
  },
  {
   "cell_type": "code",
   "execution_count": 43,
   "metadata": {},
   "outputs": [],
   "source": [
    "def run_gee(data,formula):\n",
    "    \n",
    "    list_vars = formula.split(\" ~ \")[1].split(' + ')\n",
    "    model_concept = sm.GEE.from_formula(formula, groups=\"lexeme_tag\",\n",
    "    data=data, family=sm.families.Binomial(), cov_struct=sm.cov_struct.Independence())\n",
    "    result_concept = model_concept.fit()\n",
    "        \n",
    "    output = OrderedDict()\n",
    "    for var in list_vars:\n",
    "        estimate = result_concept.params[var]\n",
    "        pvalue = non_nested(formula, data,'{} = 0'.format(var)).pvalue.item()\n",
    "        \n",
    "        output[\"estimate_{}\".format(var)] = estimate\n",
    "        output[\"pvalue_{}\".format(var)] = pvalue\n",
    "        \n",
    "    return output"
   ]
  },
  {
   "cell_type": "markdown",
   "metadata": {},
   "source": [
    "### Sucess ~ OppItem"
   ]
  },
  {
   "cell_type": "code",
   "execution_count": 44,
   "metadata": {},
   "outputs": [],
   "source": [
    "formula  = \"p ~ seen\""
   ]
  },
  {
   "cell_type": "code",
   "execution_count": 45,
   "metadata": {},
   "outputs": [
    {
     "name": "stdout",
     "output_type": "stream",
     "text": [
      "ql: -2249754.98  qic:4499686.59  qicu:4499513.97\n"
     ]
    },
    {
     "data": {
      "text/plain": [
       "OrderedDict([('estimate_seen', -0.0003111143509610103),\n",
       "             ('pvalue_seen', 0.07738696147002817)])"
      ]
     },
     "execution_count": 45,
     "metadata": {},
     "output_type": "execute_result"
    }
   ],
   "source": [
    "%%time\n",
    "run_gee(data,formula)"
   ]
  },
  {
   "cell_type": "markdown",
   "metadata": {},
   "source": [
    "### Pimsleur"
   ]
  },
  {
   "cell_type": "code",
   "execution_count": 46,
   "metadata": {},
   "outputs": [],
   "source": [
    "formula  = \"p ~ delta_by_h_p\" # delta and h were rounded to 4 decimals possible loss of information"
   ]
  },
  {
   "cell_type": "code",
   "execution_count": 47,
   "metadata": {},
   "outputs": [
    {
     "name": "stdout",
     "output_type": "stream",
     "text": [
      "ql: -749818.55  qic:1499645.02  qicu:1499641.11\n",
      "CPU times: user 3min 45s, sys: 18.4 s, total: 4min 3s\n",
      "Wall time: 3min 6s\n"
     ]
    },
    {
     "data": {
      "text/plain": [
       "OrderedDict([('estimate_delta_by_h_p', -2.3841864638480565e-05),\n",
       "             ('pvalue_delta_by_h_p', 3.465661977656762e-35)])"
      ]
     },
     "execution_count": 47,
     "metadata": {},
     "output_type": "execute_result"
    }
   ],
   "source": [
    "%%time\n",
    "run_gee(data,formula)"
   ]
  },
  {
   "cell_type": "code",
   "execution_count": 52,
   "metadata": {},
   "outputs": [],
   "source": [
    "formula  = \"p ~ pp_p\""
   ]
  },
  {
   "cell_type": "code",
   "execution_count": 53,
   "metadata": {},
   "outputs": [
    {
     "name": "stdout",
     "output_type": "stream",
     "text": [
      "ql: -749682.52  qic:1499375.31  qicu:1499369.04\n",
      "CPU times: user 3min 46s, sys: 19.9 s, total: 4min 6s\n",
      "Wall time: 3min 10s\n"
     ]
    },
    {
     "data": {
      "text/plain": [
       "OrderedDict([('estimate_pp_p', 0.13950174105671806),\n",
       "             ('pvalue_pp_p', 1.2029193446696543e-11)])"
      ]
     },
     "execution_count": 53,
     "metadata": {},
     "output_type": "execute_result"
    }
   ],
   "source": [
    "%%time\n",
    "run_gee(data,formula)"
   ]
  },
  {
   "cell_type": "markdown",
   "metadata": {},
   "source": [
    "### Leitner"
   ]
  },
  {
   "cell_type": "code",
   "execution_count": 48,
   "metadata": {},
   "outputs": [],
   "source": [
    "formula  = \"p ~ delta_by_h_l\" # delta and h were rounded to 4 decimals possible loss of information"
   ]
  },
  {
   "cell_type": "code",
   "execution_count": 49,
   "metadata": {},
   "outputs": [
    {
     "name": "stdout",
     "output_type": "stream",
     "text": [
      "ql: -749676.35  qic:1499364.94  qicu:1499356.71\n",
      "CPU times: user 3min 45s, sys: 18.2 s, total: 4min 3s\n",
      "Wall time: 3min 6s\n"
     ]
    },
    {
     "data": {
      "text/plain": [
       "OrderedDict([('estimate_delta_by_h_l', -0.0039878943529905895),\n",
       "             ('pvalue_delta_by_h_l', 7.227240032088166e-12)])"
      ]
     },
     "execution_count": 49,
     "metadata": {},
     "output_type": "execute_result"
    }
   ],
   "source": [
    "%%time\n",
    "run_gee(data,formula)"
   ]
  },
  {
   "cell_type": "code",
   "execution_count": 54,
   "metadata": {},
   "outputs": [],
   "source": [
    "formula  = \"p ~ pp_l\""
   ]
  },
  {
   "cell_type": "code",
   "execution_count": 55,
   "metadata": {},
   "outputs": [
    {
     "name": "stdout",
     "output_type": "stream",
     "text": [
      "ql: -747982.87  qic:1495974.80  qicu:1495969.74\n",
      "CPU times: user 3min 47s, sys: 17.9 s, total: 4min 4s\n",
      "Wall time: 3min 8s\n"
     ]
    },
    {
     "data": {
      "text/plain": [
       "OrderedDict([('estimate_pp_l', 0.44121161309096096),\n",
       "             ('pvalue_pp_l', 3.356719984743912e-104)])"
      ]
     },
     "execution_count": 55,
     "metadata": {},
     "output_type": "execute_result"
    }
   ],
   "source": [
    "%%time\n",
    "run_gee(data,formula)"
   ]
  },
  {
   "cell_type": "markdown",
   "metadata": {},
   "source": [
    "### Half-Life Regression"
   ]
  },
  {
   "cell_type": "code",
   "execution_count": 50,
   "metadata": {},
   "outputs": [],
   "source": [
    "formula  = \"p ~ delta_by_h_hlr\" # delta and h were rounded to 4 decimals possible loss of information"
   ]
  },
  {
   "cell_type": "code",
   "execution_count": 51,
   "metadata": {},
   "outputs": [
    {
     "name": "stdout",
     "output_type": "stream",
     "text": [
      "ql: -749514.56  qic:1499037.35  qicu:1499033.11\n",
      "CPU times: user 3min 42s, sys: 19.3 s, total: 4min 1s\n",
      "Wall time: 3min 3s\n"
     ]
    },
    {
     "data": {
      "text/plain": [
       "OrderedDict([('estimate_delta_by_h_hlr', -0.323008263766238),\n",
       "             ('pvalue_delta_by_h_hlr', 1.3848529174968613e-49)])"
      ]
     },
     "execution_count": 51,
     "metadata": {},
     "output_type": "execute_result"
    }
   ],
   "source": [
    "%%time\n",
    "run_gee(data,formula)"
   ]
  },
  {
   "cell_type": "code",
   "execution_count": 56,
   "metadata": {},
   "outputs": [],
   "source": [
    "formula  = \"p ~ pp_hlr\""
   ]
  },
  {
   "cell_type": "code",
   "execution_count": 57,
   "metadata": {},
   "outputs": [
    {
     "name": "stdout",
     "output_type": "stream",
     "text": [
      "ql: -749313.32  qic:1498634.79  qicu:1498630.63\n",
      "CPU times: user 3min 46s, sys: 18.8 s, total: 4min 4s\n",
      "Wall time: 3min 7s\n"
     ]
    },
    {
     "data": {
      "text/plain": [
       "OrderedDict([('estimate_pp_hlr', 0.81708426316908),\n",
       "             ('pvalue_pp_hlr', 5.069376721969455e-64)])"
      ]
     },
     "execution_count": 57,
     "metadata": {},
     "output_type": "execute_result"
    }
   ],
   "source": [
    "%%time\n",
    "run_gee(data,formula)"
   ]
  },
  {
   "cell_type": "markdown",
   "metadata": {},
   "source": [
    "**Observation:**  There is a clear evidence of using decay due to spacing in predicting student's success. However, there is no strong reason to switch to half-life regression (compute intense method) from Pimsleur or Leitner's method of decaying. Leitner's method has the lowest QIC for this dataset."
   ]
  }
 ],
 "metadata": {
  "kernelspec": {
   "display_name": "Python 3",
   "language": "python",
   "name": "python3"
  },
  "language_info": {
   "codemirror_mode": {
    "name": "ipython",
    "version": 3
   },
   "file_extension": ".py",
   "mimetype": "text/x-python",
   "name": "python",
   "nbconvert_exporter": "python",
   "pygments_lexer": "ipython3",
   "version": "3.7.3"
  }
 },
 "nbformat": 4,
 "nbformat_minor": 4
}
